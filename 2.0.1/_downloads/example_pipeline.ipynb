{
  "cells": [
    {
      "cell_type": "code",
      "execution_count": null,
      "metadata": {
        "collapsed": false
      },
      "outputs": [],
      "source": [
        "%matplotlib inline"
      ]
    },
    {
      "cell_type": "markdown",
      "metadata": {},
      "source": [
        "\n# Pipelines with auto_arima\n\n\n\nLike scikit-learn, ``pmdarima`` can fit \"pipeline\" models. That is, a pipeline\nconstitutes a list of arbitrary length comprised of any number of\n``BaseTransformer`` objects strung together ordinally, and finished with an\n``AutoARIMA`` object.\n\nThe benefit of a pipeline is the ability to condense a complex sequence of\nstateful transformations into a single object that can call ``fit``,\n``predict`` and ``update``. It can also be serialized into *one* pickle file,\nwhich greatly simplifies your life.\n\n.. raw:: html\n\n   <br/>\n\n"
      ]
    },
    {
      "cell_type": "code",
      "execution_count": null,
      "metadata": {
        "collapsed": false
      },
      "outputs": [],
      "source": [
        "print(__doc__)\n\n# Author: Taylor Smith <taylor.smith@alkaline-ml.com>\n\nimport numpy as np\nimport pmdarima as pm\nfrom pmdarima import pipeline\nfrom pmdarima import model_selection\nfrom pmdarima import preprocessing as ppc\nfrom pmdarima import arima\nfrom matplotlib import pyplot as plt\n\nprint(\"pmdarima version: %s\" % pm.__version__)\n\n# Load the data and split it into separate pieces\ndata = pm.datasets.load_wineind()\ntrain, test = model_selection.train_test_split(data, train_size=150)\n\n# Let's create a pipeline with multiple stages... the Wineind dataset is\n# seasonal, so we'll include a FourierFeaturizer so we can fit it without\n# seasonality\npipe = pipeline.Pipeline([\n    (\"fourier\", ppc.FourierFeaturizer(m=12, k=4)),\n    (\"arima\", arima.AutoARIMA(stepwise=True, trace=1, error_action=\"ignore\",\n                              seasonal=False,  # because we use Fourier\n                              suppress_warnings=True))\n])\n\npipe.fit(train)\nprint(\"Model fit:\")\nprint(pipe)\n\n# We can compute predictions the same way we would on a normal ARIMA object:\npreds, conf_int = pipe.predict(n_periods=10, return_conf_int=True)\nprint(\"\\nForecasts:\")\nprint(preds)\n\n# Let's take a look at the actual vs. the predicted values:\nfig, axes = plt.subplots(3, 1, figsize=(12, 8))\nfig.tight_layout()\n\n# Visualize goodness of fit\nin_sample_preds, in_sample_confint = \\\n    pipe.predict_in_sample(X=None, return_conf_int=True)\n\nn_train = train.shape[0]\n\nx0 = np.arange(n_train)\naxes[0].plot(x0, train, alpha=0.75)\naxes[0].scatter(x0, in_sample_preds, alpha=0.4, marker='x')\naxes[0].fill_between(x0, in_sample_confint[:, 0], in_sample_confint[:, 1],\n                     alpha=0.1, color='b')\naxes[0].set_title('Actual train samples vs. in-sample predictions')\naxes[0].set_xlim((0, x0.shape[0]))\n\n# Visualize actual + predicted\nx1 = np.arange(n_train + preds.shape[0])\naxes[1].plot(x1[:n_train], train, alpha=0.75)\n# axes[1].scatter(x[n_train:], preds, alpha=0.4, marker='o')\naxes[1].scatter(x1[n_train:], test[:preds.shape[0]], alpha=0.4, marker='x')\naxes[1].fill_between(x1[n_train:], conf_int[:, 0], conf_int[:, 1],\n                     alpha=0.1, color='b')\naxes[1].set_title('Actual test samples vs. forecasts')\naxes[1].set_xlim((0, data.shape[0]))\n\n# We can also call `update` directly on the pipeline object, which will update\n# the intermittent transformers, where necessary:\nnewly_observed, still_test = test[:15], test[15:]\npipe.update(newly_observed, maxiter=10)\n\n# Calling predict will now predict from newly observed values\nnew_preds = pipe.predict(still_test.shape[0])\nprint(new_preds)\n\nx2 = np.arange(data.shape[0])\nn_trained_on = n_train + newly_observed.shape[0]\n\naxes[2].plot(x2[:n_train], train, alpha=0.75)\naxes[2].plot(x2[n_train: n_trained_on], newly_observed, alpha=0.75, c='orange')\n# axes[2].scatter(x2[n_trained_on:], new_preds, alpha=0.4, marker='o')\naxes[2].scatter(x2[n_trained_on:], still_test, alpha=0.4, marker='x')\naxes[2].set_title('Actual test samples vs. forecasts')\naxes[2].set_xlim((0, data.shape[0]))\n\nplt.show()"
      ]
    }
  ],
  "metadata": {
    "kernelspec": {
      "display_name": "Python 3",
      "language": "python",
      "name": "python3"
    },
    "language_info": {
      "codemirror_mode": {
        "name": "ipython",
        "version": 3
      },
      "file_extension": ".py",
      "mimetype": "text/x-python",
      "name": "python",
      "nbconvert_exporter": "python",
      "pygments_lexer": "ipython3",
      "version": "3.7.9"
    }
  },
  "nbformat": 4,
  "nbformat_minor": 0
}