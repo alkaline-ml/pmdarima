{
  "cells": [
    {
      "cell_type": "code",
      "execution_count": null,
      "metadata": {
        "collapsed": false
      },
      "outputs": [],
      "source": [
        "%matplotlib inline"
      ]
    },
    {
      "cell_type": "markdown",
      "metadata": {},
      "source": [
        "\n# Displaying key timeseries statistics\n\n\n\nVisualizing characteristics of a time series is a key component to effective\nforecasting. In this example, we'll look at a very simple method to examine\ncritical statistics of a time series object.\n\n.. raw:: html\n\n   <br/>\n\n"
      ]
    },
    {
      "cell_type": "code",
      "execution_count": null,
      "metadata": {
        "collapsed": false
      },
      "outputs": [],
      "source": [
        "print(__doc__)\n\n# Author: Taylor Smith <taylor.smith@alkaline-ml.com>\n\nimport pmdarima as pm\nfrom pmdarima import datasets\nfrom pmdarima import preprocessing\n\n# We'll use the sunspots dataset for this example\ny = datasets.load_sunspots(True)\nprint(\"Data shape: {}\".format(y.shape[0]))\nprint(\"Data head:\")\nprint(y.head())\n\n# Let's look at the series, its ACF plot, and a histogram of its values\npm.tsdisplay(y, lag_max=90, title=\"Sunspots\", show=True)\n\n# Notice that the histogram is very skewed. This is a prime candidate for\n# box-cox transformation\ny_bc, _ = preprocessing.BoxCoxEndogTransformer(lmbda2=1e-6).fit_transform(y)\npm.tsdisplay(\n    y_bc, lag_max=90, title=\"Sunspots (BoxCox-transformed)\", show=True)\n\nprint(\"\"\"\nAs evidenced by the more normally distributed values in the transformed series,\nusing a Box-Cox transformation may prove useful prior to fitting your model.\n\"\"\")"
      ]
    }
  ],
  "metadata": {
    "kernelspec": {
      "display_name": "Python 3",
      "language": "python",
      "name": "python3"
    },
    "language_info": {
      "codemirror_mode": {
        "name": "ipython",
        "version": 3
      },
      "file_extension": ".py",
      "mimetype": "text/x-python",
      "name": "python",
      "nbconvert_exporter": "python",
      "pygments_lexer": "ipython3",
      "version": "3.7.9"
    }
  },
  "nbformat": 4,
  "nbformat_minor": 0
}