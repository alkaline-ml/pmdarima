{
  "cells": [
    {
      "cell_type": "code",
      "execution_count": null,
      "metadata": {
        "collapsed": false
      },
      "outputs": [],
      "source": [
        "%matplotlib inline"
      ]
    },
    {
      "cell_type": "markdown",
      "metadata": {},
      "source": [
        "\n# Dataset loading\n\n\n\nIn this example, we demonstrate pyramid's built-in toy datasets that can be\nused for benchmarking or experimentation. Pyramid has several built-in datasets\nthat exhibit seasonality, non-stationarity, and other time series nuances.\n\n.. raw:: html\n\n   <br/>\n\n"
      ]
    },
    {
      "cell_type": "code",
      "execution_count": null,
      "metadata": {
        "collapsed": false
      },
      "outputs": [],
      "source": [
        "print(__doc__)\n\n# Author: Taylor Smith <taylor.smith@alkaline-ml.com>\n\nimport pmdarima as pm\n\n# #############################################################################\n# You can load the datasets via load_<name>\nlynx = pm.datasets.load_lynx()\nprint(\"Lynx array:\")\nprint(lynx)\n\n# You can also get a series, if you rather\nprint(\"\\nLynx series head:\")\nprint(pm.datasets.load_lynx(as_series=True).head())\n\n# Several other datasets:\nair_passengers = pm.datasets.load_airpassengers()\naustres = pm.datasets.load_austres()\nheart_rate = pm.datasets.load_heartrate()\nwineind = pm.datasets.load_wineind()\nwoolyrnq = pm.datasets.load_woolyrnq()"
      ]
    }
  ],
  "metadata": {
    "kernelspec": {
      "display_name": "Python 3",
      "language": "python",
      "name": "python3"
    },
    "language_info": {
      "codemirror_mode": {
        "name": "ipython",
        "version": 3
      },
      "file_extension": ".py",
      "mimetype": "text/x-python",
      "name": "python",
      "nbconvert_exporter": "python",
      "pygments_lexer": "ipython3",
      "version": "3.7.9"
    }
  },
  "nbformat": 4,
  "nbformat_minor": 0
}