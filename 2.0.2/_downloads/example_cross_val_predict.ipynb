{
  "cells": [
    {
      "cell_type": "code",
      "execution_count": null,
      "metadata": {
        "collapsed": false
      },
      "outputs": [],
      "source": [
        "%matplotlib inline"
      ]
    },
    {
      "cell_type": "markdown",
      "metadata": {},
      "source": [
        "\n# Cross-validation predictions\n\n\nIn addition to computing cross-validation scores, you can use cross-validation\nto produce predictions. Unlike traditional cross-validation, where folds are\nindependent of one another, time-series folds may overlap (particularly in a\nsliding window). To account for this, folds that forecast the same time step\naverage their forecasts using either a \"mean\" or \"median\" (tunable).\n\n.. raw:: html\n\n   <br/>\n\n"
      ]
    },
    {
      "cell_type": "code",
      "execution_count": null,
      "metadata": {
        "collapsed": false
      },
      "outputs": [],
      "source": [
        "print(__doc__)\n\n# Author: Taylor Smith <taylor.smith@alkaline-ml.com>\n\nimport numpy as np\nimport pmdarima as pm\nfrom pmdarima import model_selection\nfrom matplotlib import pyplot as plt\n\nprint(\"pmdarima version: %s\" % pm.__version__)\n\n# Load the data and split it into separate pieces\ny = pm.datasets.load_wineind()\nest = pm.ARIMA(order=(1, 1, 2),\n               seasonal_order=(0, 1, 1, 12),\n               suppress_warnings=True)\ncv = model_selection.SlidingWindowForecastCV(window_size=150, step=4, h=4)\npredictions = model_selection.cross_val_predict(\n    est, y, cv=cv, verbose=2, averaging=\"median\")\n\n# plot the predictions over the original series\nx_axis = np.arange(y.shape[0])\nn_test = predictions.shape[0]\n\nplt.plot(x_axis, y, alpha=0.75, c='b')\nplt.plot(x_axis[-n_test:], predictions, alpha=0.75, c='g')  # Forecasts\nplt.title(\"Cross-validated wineind forecasts\")\nplt.show()"
      ]
    }
  ],
  "metadata": {
    "kernelspec": {
      "display_name": "Python 3",
      "language": "python",
      "name": "python3"
    },
    "language_info": {
      "codemirror_mode": {
        "name": "ipython",
        "version": 3
      },
      "file_extension": ".py",
      "mimetype": "text/x-python",
      "name": "python",
      "nbconvert_exporter": "python",
      "pygments_lexer": "ipython3",
      "version": "3.7.9"
    }
  },
  "nbformat": 4,
  "nbformat_minor": 0
}