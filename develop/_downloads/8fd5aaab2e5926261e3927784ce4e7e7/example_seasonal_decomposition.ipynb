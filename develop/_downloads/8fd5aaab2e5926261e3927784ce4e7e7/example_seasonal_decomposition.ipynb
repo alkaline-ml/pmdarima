{
  "cells": [
    {
      "cell_type": "markdown",
      "metadata": {},
      "source": [
        "\n# Seasonal decomposition of your time-series\n\n\nThis example demonstrates how we can use the ``decompose`` function to extract\nthe trend, seasonal, and random components of the time series and then\nplot them all using the ``decomposed_plot`` function. We'll be plotting both\n``additive`` and ``multiplicative`` examples of seasonality. To see the R\nequivalent that inspired this example go [here](https://anomaly.io/seasonal-trend-decomposition-in-r/index.html).\n\n.. raw:: html\n\n   <br/>\n"
      ]
    },
    {
      "cell_type": "code",
      "execution_count": null,
      "metadata": {
        "collapsed": false
      },
      "outputs": [],
      "source": [
        "print(__doc__)\n\n# Author: Charles Drotar <drotarcharles@gmail.com>\n\nfrom pmdarima import arima\nfrom pmdarima import datasets\nfrom pmdarima import utils\n\n# #############################################################################\n\n# So what is happening when we call `decomposed`?\n# 1) The trend is extracted from the signal via a convolution using either a\n#    SMA or a user-defined filter.\n# 2) We remove the effects of the trend from the original signal by either\n#    subtracting its effects or dividing out its effects for `additive` or\n#    'multiplicative' types of decompositions, respectively. We then take the\n#    mean across all seasons to get the values for a single season. For m=4, we\n#    expect 4 values for a single season.\n# 3) We then create the seasonal series by replicating the single season\n#    until it is the same length of the trend signal.\n# 4) Lastly to get the random/noise elements of the signal we remove the effects\n#    of both the trend and seasonal series and we are now left with the\n#    variation of the original signal that is neither explainable by seasonal\n#    nor trend effects.\n#\n# This logic produces a named tuple of the original signal, trend, seasonal,\n# and random components. It is this named tuple that is passed to\n# `decomposed_plot`\n\nfigure_kwargs = {'figsize': (6, 6)}  # set figure size for both examples\n\n#\n# ADDITIVE EXAMPLE : ausbeer\n#\n\n# Decompose the ausbeer dataset into trend, seasonal and random parts.\n# We subset to a small window of the time series.\n\nhead_index = 17*4+2\ntail_index = 17*4-4\nfirst_index = head_index - tail_index\nlast_index = head_index\nausbeer = datasets.load_ausbeer()\ntimeserie_beer = ausbeer[first_index:last_index]\ndecomposed = arima.decompose(timeserie_beer, 'additive', m=4)\n\n# Plot the decomposed signal of ausbeer as a subplot\n\naxes = utils.decomposed_plot(decomposed, figure_kwargs=figure_kwargs,\n                             show=False)\naxes[0].set_title(\"Ausbeer Seasonal Decomposition\")\n\n\n#\n# MULTIPLICATIVE EXAMPLE: airpassengers\n#\n\n# Decompose the airpassengers dataset into trend, seasonal and random parts.\ndecomposed = arima.decompose(datasets.load_airpassengers(),\n                             'multiplicative', m=12)\n\n# Plot the decomposed signal of airpassengers as a subplot\n\naxes = utils.decomposed_plot(decomposed, figure_kwargs=figure_kwargs,\n                             show=False)\naxes[0].set_title(\"Airpassengers Seasonal Decomposition\")"
      ]
    }
  ],
  "metadata": {
    "kernelspec": {
      "display_name": "Python 3",
      "language": "python",
      "name": "python3"
    },
    "language_info": {
      "codemirror_mode": {
        "name": "ipython",
        "version": 3
      },
      "file_extension": ".py",
      "mimetype": "text/x-python",
      "name": "python",
      "nbconvert_exporter": "python",
      "pygments_lexer": "ipython3",
      "version": "3.9.20"
    }
  },
  "nbformat": 4,
  "nbformat_minor": 0
}