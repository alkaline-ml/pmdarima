{
  "cells": [
    {
      "cell_type": "code",
      "execution_count": null,
      "metadata": {
        "collapsed": false
      },
      "outputs": [],
      "source": [
        "%matplotlib inline"
      ]
    },
    {
      "cell_type": "markdown",
      "metadata": {},
      "source": [
        "\n# Cross-validating your time series models\n\n\n\nLike scikit-learn, ``pmdarima`` provides several different strategies for\ncross-validating your time series models. The interface was designed to behave\nas similarly as possible to that of scikit to make its usage as simple as\npossible.\n\n.. raw:: html\n\n   <br/>\n\n"
      ]
    },
    {
      "cell_type": "code",
      "execution_count": null,
      "metadata": {
        "collapsed": false
      },
      "outputs": [],
      "source": [
        "print(__doc__)\n\n# Author: Taylor Smith <taylor.smith@alkaline-ml.com>\n\nimport numpy as np\nimport pmdarima as pm\nfrom pmdarima import model_selection\n\nprint(\"pmdarima version: %s\" % pm.__version__)\n\n# Load the data and split it into separate pieces\ndata = pm.datasets.load_wineind()\ntrain, test = model_selection.train_test_split(data, train_size=165)\n\n# Even though we have a dedicated train/test split, we can (and should) still\n# use cross-validation on our training set to get a good estimate of the model\n# performance. We can choose which model is better based on how it performs\n# over various folds.\nmodel1 = pm.ARIMA(order=(2, 1, 1))\nmodel2 = pm.ARIMA(order=(1, 1, 2),\n                  seasonal_order=(0, 1, 1, 12),\n                  suppress_warnings=True)\ncv = model_selection.SlidingWindowForecastCV(window_size=100, step=24, h=1)\n\nmodel1_cv_scores = model_selection.cross_val_score(\n    model1, train, scoring='smape', cv=cv, verbose=2)\n\nmodel2_cv_scores = model_selection.cross_val_score(\n    model2, train, scoring='smape', cv=cv, verbose=2)\n\nprint(\"Model 1 CV scores: {}\".format(model1_cv_scores.tolist()))\nprint(\"Model 2 CV scores: {}\".format(model2_cv_scores.tolist()))\n\n# Pick based on which has a lower mean error rate\nm1_average_error = np.average(model1_cv_scores)\nm2_average_error = np.average(model2_cv_scores)\nerrors = [m1_average_error, m2_average_error]\nmodels = [model1, model2]\n\n# print out the answer\nbetter_index = np.argmin(errors)  # type: int\nprint(\"Lowest average SMAPE: {} (model{})\".format(\n    errors[better_index], better_index + 1))\nprint(\"Best model: {}\".format(models[better_index]))"
      ]
    }
  ],
  "metadata": {
    "kernelspec": {
      "display_name": "Python 3",
      "language": "python",
      "name": "python3"
    },
    "language_info": {
      "codemirror_mode": {
        "name": "ipython",
        "version": 3
      },
      "file_extension": ".py",
      "mimetype": "text/x-python",
      "name": "python",
      "nbconvert_exporter": "python",
      "pygments_lexer": "ipython3",
      "version": "3.7.9"
    }
  },
  "nbformat": 4,
  "nbformat_minor": 0
}