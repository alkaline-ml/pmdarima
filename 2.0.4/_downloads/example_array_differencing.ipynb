{
  "cells": [
    {
      "cell_type": "code",
      "execution_count": null,
      "metadata": {
        "collapsed": false
      },
      "outputs": [],
      "source": [
        "%matplotlib inline"
      ]
    },
    {
      "cell_type": "markdown",
      "metadata": {},
      "source": [
        "\n# Array differencing\n\n\n\nIn this example, we demonstrate pyramid's array differencing, and how it's used\nin conjunction with the ``d`` term to lag a time series.\n\n.. raw:: html\n\n   <br/>\n\n"
      ]
    },
    {
      "cell_type": "code",
      "execution_count": null,
      "metadata": {
        "collapsed": false
      },
      "outputs": [],
      "source": [
        "print(__doc__)\n\n# Author: Taylor Smith <taylor.smith@alkaline-ml.com>\n\nfrom pmdarima.utils import array\n\n# Build an array and show first order differencing results\nx = array.c(10, 4, 2, 9, 34)\nlag_1 = array.diff(x, lag=1, differences=1)\n\n# The result will be the same as: x[1:] - x[:-1]\nprint(lag_1)  # [-6., -2., 7., 25.]\n\n# Note that lag and differences are not the same! If we crank diff up by one,\n# it performs the same differencing as above TWICE. Lag, therefore, controls\n# the number of steps backward the ts looks when it differences, and the\n# `differences` parameter controls how many times to repeat.\nprint(array.diff(x, lag=1, differences=2))  # [4., 9., 18.]\n\n# Conversely, when we set lag to 2, the array looks two steps back for its\n# differencing operation (only one).\nprint(array.diff(x, lag=2, differences=1))  # [-8., 5., 32.]\n\n# The lag parameter is controlled by `m`, which is the seasonal periodicity of\n# a time series. If your series is non-seasonal, lag will typically be 1."
      ]
    }
  ],
  "metadata": {
    "kernelspec": {
      "display_name": "Python 3",
      "language": "python",
      "name": "python3"
    },
    "language_info": {
      "codemirror_mode": {
        "name": "ipython",
        "version": 3
      },
      "file_extension": ".py",
      "mimetype": "text/x-python",
      "name": "python",
      "nbconvert_exporter": "python",
      "pygments_lexer": "ipython3",
      "version": "3.7.9"
    }
  },
  "nbformat": 4,
  "nbformat_minor": 0
}