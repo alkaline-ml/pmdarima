{
  "cells": [
    {
      "cell_type": "code",
      "execution_count": null,
      "metadata": {
        "collapsed": false
      },
      "outputs": [],
      "source": [
        "%matplotlib inline"
      ]
    },
    {
      "cell_type": "markdown",
      "metadata": {},
      "source": [
        "\n# Array concatenation\n\n\n\nIn this example, we demonstrate pyramid's convenient ``c`` function, which is,\nin essence, the same as R's. It's nothing more than a convenience function in\nthe package, but one you should understand if you're contributing.\n\n.. raw:: html\n\n   <br/>\n\n"
      ]
    },
    {
      "cell_type": "code",
      "execution_count": null,
      "metadata": {
        "collapsed": false
      },
      "outputs": [],
      "source": [
        "print(__doc__)\n\n# Author: Taylor Smith <taylor.smith@alkaline-ml.com>\n\nimport pmdarima as pm\nimport numpy as np\n\n# #############################################################################\n# You can use the 'c' function to define an array from *args\narray1 = pm.c(1, 2, 3, 4, 5)\n\n# Or you can define an array from an existing iterable:\narray2 = pm.c([1, 2, 3, 4, 5])\nassert np.array_equal(array1, array2)\n\n# You can even use 'c' to flatten arrays:\narray_flat = pm.c(1, 2, 3, [4, 5])\nassert np.array_equal(array_flat, np.arange(5) + 1)"
      ]
    }
  ],
  "metadata": {
    "kernelspec": {
      "display_name": "Python 3",
      "language": "python",
      "name": "python3"
    },
    "language_info": {
      "codemirror_mode": {
        "name": "ipython",
        "version": 3
      },
      "file_extension": ".py",
      "mimetype": "text/x-python",
      "name": "python",
      "nbconvert_exporter": "python",
      "pygments_lexer": "ipython3",
      "version": "3.7.9"
    }
  },
  "nbformat": 4,
  "nbformat_minor": 0
}