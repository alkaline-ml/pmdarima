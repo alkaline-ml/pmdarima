{
  "cells": [
    {
      "cell_type": "code",
      "execution_count": null,
      "metadata": {
        "collapsed": false
      },
      "outputs": [],
      "source": [
        "%matplotlib inline"
      ]
    },
    {
      "cell_type": "markdown",
      "metadata": {},
      "source": [
        "\n# Adding new observations to your model\n\n\n\nThis example demonstrates how to add new ground truth\nobservations to your model so that forecasting continues\nwith respect to true, observed values. This also slightly\nupdates the model parameters, taking several new steps from\nthe existing model parameters.\n\n.. raw:: html\n\n   <br/>\n\n"
      ]
    },
    {
      "cell_type": "code",
      "execution_count": null,
      "metadata": {
        "collapsed": false
      },
      "outputs": [],
      "source": [
        "print(__doc__)\n\n# Author: Taylor Smith <taylor.smith@alkaline-ml.com>\n\nimport pmdarima as pm\nfrom pmdarima import model_selection\nimport matplotlib.pyplot as plt\nimport numpy as np\n\n# #############################################################################\n# Load the data and split it into separate pieces\ndata = pm.datasets.load_lynx()\ntrain, test = model_selection.train_test_split(data, train_size=100)\n\n# #############################################################################\n# Fit with some validation (cv) samples\narima = pm.auto_arima(train, start_p=1, start_q=1, d=0, max_p=5, max_q=5,\n                      out_of_sample_size=10, suppress_warnings=True,\n                      stepwise=True, error_action='ignore')\n\n# Now plot the results and the forecast for the test set\npreds, conf_int = arima.predict(n_periods=test.shape[0],\n                                return_conf_int=True)\n\nfig, axes = plt.subplots(2, 1, figsize=(12, 8))\nx_axis = np.arange(train.shape[0] + preds.shape[0])\naxes[0].plot(x_axis[:train.shape[0]], train, alpha=0.75)\naxes[0].scatter(x_axis[train.shape[0]:], preds, alpha=0.4, marker='o')\naxes[0].scatter(x_axis[train.shape[0]:], test, alpha=0.4, marker='x')\naxes[0].fill_between(x_axis[-preds.shape[0]:], conf_int[:, 0], conf_int[:, 1],\n                     alpha=0.1, color='b')\n\n# fill the section where we \"held out\" samples in our model fit\n\naxes[0].set_title(\"Train samples & forecasted test samples\")\n\n# Now add the actual samples to the model and create NEW forecasts\narima.update(test)\nnew_preds, new_conf_int = arima.predict(n_periods=10, return_conf_int=True)\nnew_x_axis = np.arange(data.shape[0] + 10)\n\naxes[1].plot(new_x_axis[:data.shape[0]], data, alpha=0.75)\naxes[1].scatter(new_x_axis[data.shape[0]:], new_preds, alpha=0.4, marker='o')\naxes[1].fill_between(new_x_axis[-new_preds.shape[0]:],\n                     new_conf_int[:, 0],\n                     new_conf_int[:, 1],\n                     alpha=0.1, color='g')\naxes[1].set_title(\"Added new observed values with new forecasts\")\nplt.show()"
      ]
    }
  ],
  "metadata": {
    "kernelspec": {
      "display_name": "Python 3",
      "language": "python",
      "name": "python3"
    },
    "language_info": {
      "codemirror_mode": {
        "name": "ipython",
        "version": 3
      },
      "file_extension": ".py",
      "mimetype": "text/x-python",
      "name": "python",
      "nbconvert_exporter": "python",
      "pygments_lexer": "ipython3",
      "version": "3.7.9"
    }
  },
  "nbformat": 4,
  "nbformat_minor": 0
}