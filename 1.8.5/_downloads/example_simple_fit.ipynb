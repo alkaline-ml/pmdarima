{
  "cells": [
    {
      "cell_type": "code",
      "execution_count": null,
      "metadata": {
        "collapsed": false
      },
      "outputs": [],
      "source": [
        "%matplotlib inline"
      ]
    },
    {
      "cell_type": "markdown",
      "metadata": {},
      "source": [
        "\n# Simple auto_arima model\n\n\n\nThis is a simple example of how we can fit an ARIMA model in several lines\nwithout knowing anything about our data or optimal hyper parameters.\n\n.. raw:: html\n\n   <br/>\n\n"
      ]
    },
    {
      "cell_type": "code",
      "execution_count": null,
      "metadata": {
        "collapsed": false
      },
      "outputs": [],
      "source": [
        "print(__doc__)\n\n# Author: Taylor Smith <taylor.smith@alkaline-ml.com>\n\nimport pmdarima as pm\nfrom pmdarima import model_selection\nimport numpy as np\nfrom matplotlib import pyplot as plt\n\n# #############################################################################\n# Load the data and split it into separate pieces\ndata = pm.datasets.load_wineind()\ntrain, test = model_selection.train_test_split(data, train_size=150)\n\n# Fit a simple auto_arima model\narima = pm.auto_arima(train, error_action='ignore', trace=True,\n                      suppress_warnings=True, maxiter=5,\n                      seasonal=True, m=12)\n\n# #############################################################################\n# Plot actual test vs. forecasts:\nx = np.arange(test.shape[0])\nplt.scatter(x, test, marker='x')\nplt.plot(x, arima.predict(n_periods=test.shape[0]))\nplt.title('Actual test samples vs. forecasts')\nplt.show()"
      ]
    }
  ],
  "metadata": {
    "kernelspec": {
      "display_name": "Python 3",
      "language": "python",
      "name": "python3"
    },
    "language_info": {
      "codemirror_mode": {
        "name": "ipython",
        "version": 3
      },
      "file_extension": ".py",
      "mimetype": "text/x-python",
      "name": "python",
      "nbconvert_exporter": "python",
      "pygments_lexer": "ipython3",
      "version": "3.7.9"
    }
  },
  "nbformat": 4,
  "nbformat_minor": 0
}