{
  "cells": [
    {
      "cell_type": "code",
      "execution_count": null,
      "metadata": {
        "collapsed": false
      },
      "outputs": [],
      "source": [
        "%matplotlib inline"
      ]
    },
    {
      "cell_type": "markdown",
      "metadata": {},
      "source": [
        "\n# Persisting an ARIMA model\n\n\n\nThis example demonstrates how we can persist an ARIMA model to disk after\nfitting it. It can then be loaded back up and used to generate forecasts.\n\n.. raw:: html\n\n   <br/>\n\n"
      ]
    },
    {
      "cell_type": "code",
      "execution_count": null,
      "metadata": {
        "collapsed": false
      },
      "outputs": [],
      "source": [
        "print(__doc__)\n\n# Author: Taylor Smith <taylor.smith@alkaline-ml.com>\n\nimport pmdarima as pm\nfrom pmdarima import model_selection\nimport joblib  # for persistence\nimport os\n\n# #############################################################################\n# Load the data and split it into separate pieces\ny = pm.datasets.load_wineind()\ntrain, test = model_selection.train_test_split(y, train_size=125)\n\n# Fit an ARIMA\narima = pm.ARIMA(order=(1, 1, 2), seasonal_order=(0, 1, 1, 12))\narima.fit(y)\n\n# #############################################################################\n# Persist a model and create predictions after re-loading it\npickle_tgt = \"arima.pkl\"\ntry:\n    # Pickle it\n    joblib.dump(arima, pickle_tgt, compress=3)\n\n    # Load the model up, create predictions\n    arima_loaded = joblib.load(pickle_tgt)\n    preds = arima_loaded.predict(n_periods=test.shape[0])\n    print(\"Predictions: %r\" % preds)\n\nfinally:\n    # Remove the pickle file at the end of this example\n    try:\n        os.unlink(pickle_tgt)\n    except OSError:\n        pass"
      ]
    }
  ],
  "metadata": {
    "kernelspec": {
      "display_name": "Python 3",
      "language": "python",
      "name": "python3"
    },
    "language_info": {
      "codemirror_mode": {
        "name": "ipython",
        "version": 3
      },
      "file_extension": ".py",
      "mimetype": "text/x-python",
      "name": "python",
      "nbconvert_exporter": "python",
      "pygments_lexer": "ipython3",
      "version": "3.7.9"
    }
  },
  "nbformat": 4,
  "nbformat_minor": 0
}