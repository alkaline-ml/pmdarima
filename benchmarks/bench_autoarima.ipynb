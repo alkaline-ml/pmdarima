{
 "cells": [
  {
   "cell_type": "markdown",
   "metadata": {},
   "source": [
    "# `auto_arima` benchmarks\n",
    "\n",
    "This notebook benchmarks the `auto_arima` function with various hyperparametric combinations. All of the benchmarks are used with the `wineind` data found in `pyramid.datasets.load_wineind`."
   ]
  },
  {
   "cell_type": "code",
   "execution_count": 2,
   "metadata": {
    "collapsed": false
   },
   "outputs": [
    {
     "name": "stdout",
     "output_type": "stream",
     "text": [
      "Pyramid version: 0.5-dev3\n"
     ]
    }
   ],
   "source": [
    "import pyramid\n",
    "from pyramid.datasets import load_wineind\n",
    "\n",
    "wineind = load_wineind()\n",
    "print(\"Pyramid version: %s\" % pyramid.__version__)"
   ]
  },
  {
   "cell_type": "code",
   "execution_count": 17,
   "metadata": {
    "collapsed": true
   },
   "outputs": [],
   "source": [
    "import numpy as np\n",
    "import gc\n",
    "from datetime import datetime\n",
    "import matplotlib.pyplot as plt\n",
    "%matplotlib inline\n",
    "\n",
    "# to store the results\n",
    "stepwise_results = []\n",
    "grid_results = []\n",
    "mu_second = 0.0 + 10 ** 6 # number of microseconds in a second"
   ]
  },
  {
   "cell_type": "code",
   "execution_count": 18,
   "metadata": {
    "collapsed": true
   },
   "outputs": [],
   "source": [
    "def benchmark(x, results, **kwargs):\n",
    "    from pyramid.arima import auto_arima\n",
    "    \n",
    "    gc.collect()\n",
    "    \n",
    "    # start\n",
    "    tstart = datetime.now()\n",
    "    auto_arima(x, **kwargs)\n",
    "    delta = datetime.now() - tstart\n",
    "    # stop\n",
    "    \n",
    "    results.append(delta.seconds + delta.microseconds / mu_second)"
   ]
  },
  {
   "cell_type": "code",
   "execution_count": 19,
   "metadata": {
    "collapsed": false
   },
   "outputs": [
    {
     "data": {
      "image/png": "[encoded data removed]",
      "text/plain": [
       "<matplotlib.figure.Figure at 0x11a52bd90>"
      ]
     },
     "metadata": {},
     "output_type": "display_data"
    }
   ],
   "source": [
    "def fit_benchmark(**kwargs):\n",
    "    # pop these, since we'll manually assign\n",
    "    kwargs.pop('stepwise', None)\n",
    "    kwargs.pop('n_jobs', None)\n",
    "    \n",
    "    for stepwise, results in ((True, stepwise_results), (False, grid_results)):\n",
    "        benchmark(wineind, results, **kwargs)\n",
    "        \n",
    "def plot_benchmarks():\n",
    "    plt.figure('auto_arima benchmark results')\n",
    "    xx = len(stepwise_results)\n",
    "    plt.scatter(x=xx, y=stepwise_results, label='stepwise')\n",
    "    plt.scatter(x=xx, y=grid_results, label='grid')\n",
    "    plt.legend(loc='upper left')\n",
    "    plt.ylabel('Time (s)')\n",
    "    plt.show()\n",
    "\n",
    "# fit with all default args\n",
    "fit_benchmark(suppress_warnings=True)\n",
    "plot_benchmarks()"
   ]
  },
  {
   "cell_type": "code",
   "execution_count": null,
   "metadata": {
    "collapsed": true
   },
   "outputs": [],
   "source": []
  }
 ],
 "metadata": {
  "anaconda-cloud": {},
  "kernelspec": {
   "display_name": "Python [Root]",
   "language": "python",
   "name": "Python [Root]"
  },
  "language_info": {
   "codemirror_mode": {
    "name": "ipython",
    "version": 2
   },
   "file_extension": ".py",
   "mimetype": "text/x-python",
   "name": "python",
   "nbconvert_exporter": "python",
   "pygments_lexer": "ipython2",
   "version": "2.7.12"
  }
 },
 "nbformat": 4,
 "nbformat_minor": 0
}
